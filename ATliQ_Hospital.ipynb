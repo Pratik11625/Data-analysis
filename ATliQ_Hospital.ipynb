{
 "cells": [
  {
   "cell_type": "markdown",
   "id": "e28a84b5",
   "metadata": {},
   "source": [
    "# AtliQ Hospitality Analysis\n",
    "\n",
    "Introduction:Atliq , a prominent player in the hospitality industry for the past\n",
    "    two decades, faces challenges in market share and revenue loss due to competition\n",
    "    and management decisions. To revitalize their position, the managing director seeks\n",
    "    to integrate \"Business and Data Intelligence.\" However, lacking an in-house analytics\n",
    "    team, they opt to engage a third-party service provider to derive insights from their\n",
    "    historical data, aiming to regain their competitive edge.\n",
    "\n",
    "Problem Statement: Atliq Grands, a renowned player in the hospitality industry with a\n",
    "    20-year legacy, faces challenges in market share and revenue loss due to competitor\n",
    "    strategies and management decisions. To counter this, the managing director aims to \n",
    "    integrate \"Business and Data Intelligence\" but lacks an in-house analytics team. \n",
    "    Consequently, they opt to engage a third-party service provider to derive insights \n",
    "    from their historical data to regain competitiveness.\n",
    "    "
   ]
  },
  {
   "cell_type": "code",
   "execution_count": 1,
   "id": "0a3d3512",
   "metadata": {},
   "outputs": [],
   "source": [
    "import os\n",
    "os.chdir('D:/py/')\n",
    "import pandas as pd\n",
    "from warnings import filterwarnings\n",
    "filterwarnings('ignore')\n",
    "import numpy as np\n",
    "import matplotlib.pyplot as plt\n",
    "import seaborn as sns"
   ]
  },
  {
   "cell_type": "code",
   "execution_count": 2,
   "id": "8bf2cdcc",
   "metadata": {},
   "outputs": [],
   "source": [
    "\n",
    "df=pd.read_csv('fact_aggregated_bookings.csv')\n",
    "df1=pd.read_csv('dim_hotels.csv')\n",
    "df2=pd.read_csv('fact_bookings.csv')\n",
    "df3=pd.read_csv('dim_date.csv')\n",
    "df4=pd.read_csv('dim_rooms.csv')\n"
   ]
  },
  {
   "cell_type": "code",
   "execution_count": 3,
   "id": "ecc174a7",
   "metadata": {},
   "outputs": [
    {
     "data": {
      "text/html": [
       "<div>\n",
       "<style scoped>\n",
       "    .dataframe tbody tr th:only-of-type {\n",
       "        vertical-align: middle;\n",
       "    }\n",
       "\n",
       "    .dataframe tbody tr th {\n",
       "        vertical-align: top;\n",
       "    }\n",
       "\n",
       "    .dataframe thead th {\n",
       "        text-align: right;\n",
       "    }\n",
       "</style>\n",
       "<table border=\"1\" class=\"dataframe\">\n",
       "  <thead>\n",
       "    <tr style=\"text-align: right;\">\n",
       "      <th></th>\n",
       "      <th>property_id</th>\n",
       "      <th>property_name</th>\n",
       "      <th>category</th>\n",
       "      <th>city</th>\n",
       "      <th>check_in_date</th>\n",
       "      <th>room_category</th>\n",
       "      <th>successful_bookings</th>\n",
       "      <th>capacity</th>\n",
       "    </tr>\n",
       "  </thead>\n",
       "  <tbody>\n",
       "    <tr>\n",
       "      <th>0</th>\n",
       "      <td>16559</td>\n",
       "      <td>Atliq Exotica</td>\n",
       "      <td>Luxury</td>\n",
       "      <td>Mumbai</td>\n",
       "      <td>01-05-2022</td>\n",
       "      <td>RT1</td>\n",
       "      <td>25</td>\n",
       "      <td>30</td>\n",
       "    </tr>\n",
       "    <tr>\n",
       "      <th>1</th>\n",
       "      <td>19562</td>\n",
       "      <td>Atliq Bay</td>\n",
       "      <td>Luxury</td>\n",
       "      <td>Bangalore</td>\n",
       "      <td>01-05-2022</td>\n",
       "      <td>RT1</td>\n",
       "      <td>28</td>\n",
       "      <td>30</td>\n",
       "    </tr>\n",
       "  </tbody>\n",
       "</table>\n",
       "</div>"
      ],
      "text/plain": [
       "   property_id  property_name category       city check_in_date room_category  \\\n",
       "0        16559  Atliq Exotica   Luxury     Mumbai    01-05-2022           RT1   \n",
       "1        19562      Atliq Bay   Luxury  Bangalore    01-05-2022           RT1   \n",
       "\n",
       "   successful_bookings  capacity  \n",
       "0                   25        30  \n",
       "1                   28        30  "
      ]
     },
     "execution_count": 3,
     "metadata": {},
     "output_type": "execute_result"
    }
   ],
   "source": [
    "df5 = df1.merge(df, how='right', on='property_id')            # hotels merge aggregated booking \n",
    "df5.head(2)"
   ]
  },
  {
   "cell_type": "code",
   "execution_count": 4,
   "id": "94e21da4",
   "metadata": {},
   "outputs": [
    {
     "data": {
      "text/html": [
       "<div>\n",
       "<style scoped>\n",
       "    .dataframe tbody tr th:only-of-type {\n",
       "        vertical-align: middle;\n",
       "    }\n",
       "\n",
       "    .dataframe tbody tr th {\n",
       "        vertical-align: top;\n",
       "    }\n",
       "\n",
       "    .dataframe thead th {\n",
       "        text-align: right;\n",
       "    }\n",
       "</style>\n",
       "<table border=\"1\" class=\"dataframe\">\n",
       "  <thead>\n",
       "    <tr style=\"text-align: right;\">\n",
       "      <th></th>\n",
       "      <th>booking_id</th>\n",
       "      <th>property_id</th>\n",
       "      <th>booking_date</th>\n",
       "      <th>check_in_date</th>\n",
       "      <th>checkout_date</th>\n",
       "      <th>no_guests</th>\n",
       "      <th>room_category</th>\n",
       "      <th>booking_platform</th>\n",
       "      <th>ratings_given</th>\n",
       "      <th>booking_status</th>\n",
       "      <th>revenue_generated</th>\n",
       "      <th>revenue_realized</th>\n",
       "      <th>property_name</th>\n",
       "      <th>category</th>\n",
       "      <th>city</th>\n",
       "    </tr>\n",
       "  </thead>\n",
       "  <tbody>\n",
       "    <tr>\n",
       "      <th>0</th>\n",
       "      <td>May012216558RT11</td>\n",
       "      <td>16558</td>\n",
       "      <td>27-04-2022</td>\n",
       "      <td>01-05-2022</td>\n",
       "      <td>02-05-2022</td>\n",
       "      <td>3</td>\n",
       "      <td>RT1</td>\n",
       "      <td>direct online</td>\n",
       "      <td>1.0</td>\n",
       "      <td>Checked Out</td>\n",
       "      <td>10010</td>\n",
       "      <td>10010</td>\n",
       "      <td>Atliq Grands</td>\n",
       "      <td>Luxury</td>\n",
       "      <td>Delhi</td>\n",
       "    </tr>\n",
       "    <tr>\n",
       "      <th>1</th>\n",
       "      <td>May012216558RT12</td>\n",
       "      <td>16558</td>\n",
       "      <td>30-04-2022</td>\n",
       "      <td>01-05-2022</td>\n",
       "      <td>02-05-2022</td>\n",
       "      <td>2</td>\n",
       "      <td>RT1</td>\n",
       "      <td>others</td>\n",
       "      <td>NaN</td>\n",
       "      <td>Cancelled</td>\n",
       "      <td>9100</td>\n",
       "      <td>3640</td>\n",
       "      <td>Atliq Grands</td>\n",
       "      <td>Luxury</td>\n",
       "      <td>Delhi</td>\n",
       "    </tr>\n",
       "  </tbody>\n",
       "</table>\n",
       "</div>"
      ],
      "text/plain": [
       "         booking_id  property_id booking_date check_in_date checkout_date  \\\n",
       "0  May012216558RT11        16558   27-04-2022    01-05-2022    02-05-2022   \n",
       "1  May012216558RT12        16558   30-04-2022    01-05-2022    02-05-2022   \n",
       "\n",
       "   no_guests room_category booking_platform  ratings_given booking_status  \\\n",
       "0          3           RT1    direct online            1.0    Checked Out   \n",
       "1          2           RT1           others            NaN      Cancelled   \n",
       "\n",
       "   revenue_generated  revenue_realized property_name category   city  \n",
       "0              10010             10010  Atliq Grands   Luxury  Delhi  \n",
       "1               9100              3640  Atliq Grands   Luxury  Delhi  "
      ]
     },
     "execution_count": 4,
     "metadata": {},
     "output_type": "execute_result"
    }
   ],
   "source": [
    "df6 = df2.merge(df1, how='left', on='property_id')          # fact booking merge hotels\n",
    "df6.head(2)"
   ]
  },
  {
   "cell_type": "code",
   "execution_count": 5,
   "id": "a589c5bc",
   "metadata": {},
   "outputs": [
    {
     "data": {
      "text/html": [
       "<div>\n",
       "<style scoped>\n",
       "    .dataframe tbody tr th:only-of-type {\n",
       "        vertical-align: middle;\n",
       "    }\n",
       "\n",
       "    .dataframe tbody tr th {\n",
       "        vertical-align: top;\n",
       "    }\n",
       "\n",
       "    .dataframe thead th {\n",
       "        text-align: right;\n",
       "    }\n",
       "</style>\n",
       "<table border=\"1\" class=\"dataframe\">\n",
       "  <thead>\n",
       "    <tr style=\"text-align: right;\">\n",
       "      <th></th>\n",
       "      <th>booking_id</th>\n",
       "      <th>property_id</th>\n",
       "      <th>booking_date</th>\n",
       "      <th>check_in_date</th>\n",
       "      <th>checkout_date</th>\n",
       "      <th>no_guests</th>\n",
       "      <th>room_category_x</th>\n",
       "      <th>booking_platform</th>\n",
       "      <th>ratings_given</th>\n",
       "      <th>booking_status</th>\n",
       "      <th>revenue_generated</th>\n",
       "      <th>revenue_realized</th>\n",
       "      <th>property_id_y</th>\n",
       "      <th>room_category_y</th>\n",
       "      <th>successful_bookings</th>\n",
       "      <th>capacity</th>\n",
       "    </tr>\n",
       "  </thead>\n",
       "  <tbody>\n",
       "    <tr>\n",
       "      <th>0</th>\n",
       "      <td>May012216558RT11</td>\n",
       "      <td>16558</td>\n",
       "      <td>27-04-2022</td>\n",
       "      <td>01-05-2022</td>\n",
       "      <td>02-05-2022</td>\n",
       "      <td>3</td>\n",
       "      <td>RT1</td>\n",
       "      <td>direct online</td>\n",
       "      <td>1.0</td>\n",
       "      <td>Checked Out</td>\n",
       "      <td>10010</td>\n",
       "      <td>10010</td>\n",
       "      <td>16559</td>\n",
       "      <td>RT1</td>\n",
       "      <td>25</td>\n",
       "      <td>30</td>\n",
       "    </tr>\n",
       "    <tr>\n",
       "      <th>1</th>\n",
       "      <td>May012216558RT11</td>\n",
       "      <td>16558</td>\n",
       "      <td>27-04-2022</td>\n",
       "      <td>01-05-2022</td>\n",
       "      <td>02-05-2022</td>\n",
       "      <td>3</td>\n",
       "      <td>RT1</td>\n",
       "      <td>direct online</td>\n",
       "      <td>1.0</td>\n",
       "      <td>Checked Out</td>\n",
       "      <td>10010</td>\n",
       "      <td>10010</td>\n",
       "      <td>19562</td>\n",
       "      <td>RT1</td>\n",
       "      <td>28</td>\n",
       "      <td>30</td>\n",
       "    </tr>\n",
       "  </tbody>\n",
       "</table>\n",
       "</div>"
      ],
      "text/plain": [
       "         booking_id  property_id booking_date check_in_date checkout_date  \\\n",
       "0  May012216558RT11        16558   27-04-2022    01-05-2022    02-05-2022   \n",
       "1  May012216558RT11        16558   27-04-2022    01-05-2022    02-05-2022   \n",
       "\n",
       "   no_guests room_category_x booking_platform  ratings_given booking_status  \\\n",
       "0          3             RT1    direct online            1.0    Checked Out   \n",
       "1          3             RT1    direct online            1.0    Checked Out   \n",
       "\n",
       "   revenue_generated  revenue_realized  property_id_y room_category_y  \\\n",
       "0              10010             10010          16559             RT1   \n",
       "1              10010             10010          19562             RT1   \n",
       "\n",
       "   successful_bookings  capacity  \n",
       "0                   25        30  \n",
       "1                   28        30  "
      ]
     },
     "execution_count": 5,
     "metadata": {},
     "output_type": "execute_result"
    }
   ],
   "source": [
    "df7 = df2.merge(df, how='left', on='check_in_date')                   #fact aggregates merge fact booking\n",
    "df7 = df7.rename(columns={'property_id_x': 'property_id'})\n",
    "df7.head(2)"
   ]
  },
  {
   "cell_type": "code",
   "execution_count": 6,
   "id": "28d55465",
   "metadata": {},
   "outputs": [
    {
     "data": {
      "text/html": [
       "<div>\n",
       "<style scoped>\n",
       "    .dataframe tbody tr th:only-of-type {\n",
       "        vertical-align: middle;\n",
       "    }\n",
       "\n",
       "    .dataframe tbody tr th {\n",
       "        vertical-align: top;\n",
       "    }\n",
       "\n",
       "    .dataframe thead th {\n",
       "        text-align: right;\n",
       "    }\n",
       "</style>\n",
       "<table border=\"1\" class=\"dataframe\">\n",
       "  <thead>\n",
       "    <tr style=\"text-align: right;\">\n",
       "      <th></th>\n",
       "      <th>check_in_date</th>\n",
       "      <th>mmm yy</th>\n",
       "      <th>week no</th>\n",
       "      <th>day_type</th>\n",
       "      <th>booking_id</th>\n",
       "      <th>property_id</th>\n",
       "      <th>booking_date</th>\n",
       "      <th>checkout_date</th>\n",
       "      <th>no_guests</th>\n",
       "      <th>room_category</th>\n",
       "      <th>booking_platform</th>\n",
       "      <th>ratings_given</th>\n",
       "      <th>booking_status</th>\n",
       "      <th>revenue_generated</th>\n",
       "      <th>revenue_realized</th>\n",
       "    </tr>\n",
       "  </thead>\n",
       "  <tbody>\n",
       "    <tr>\n",
       "      <th>0</th>\n",
       "      <td>01-05-2022</td>\n",
       "      <td>May-22</td>\n",
       "      <td>W 19</td>\n",
       "      <td>weekend</td>\n",
       "      <td>May012216558RT11</td>\n",
       "      <td>16558</td>\n",
       "      <td>27-04-2022</td>\n",
       "      <td>02-05-2022</td>\n",
       "      <td>3</td>\n",
       "      <td>RT1</td>\n",
       "      <td>direct online</td>\n",
       "      <td>1.0</td>\n",
       "      <td>Checked Out</td>\n",
       "      <td>10010</td>\n",
       "      <td>10010</td>\n",
       "    </tr>\n",
       "    <tr>\n",
       "      <th>1</th>\n",
       "      <td>01-05-2022</td>\n",
       "      <td>May-22</td>\n",
       "      <td>W 19</td>\n",
       "      <td>weekend</td>\n",
       "      <td>May012216558RT12</td>\n",
       "      <td>16558</td>\n",
       "      <td>30-04-2022</td>\n",
       "      <td>02-05-2022</td>\n",
       "      <td>2</td>\n",
       "      <td>RT1</td>\n",
       "      <td>others</td>\n",
       "      <td>NaN</td>\n",
       "      <td>Cancelled</td>\n",
       "      <td>9100</td>\n",
       "      <td>3640</td>\n",
       "    </tr>\n",
       "  </tbody>\n",
       "</table>\n",
       "</div>"
      ],
      "text/plain": [
       "  check_in_date  mmm yy week no day_type        booking_id  property_id  \\\n",
       "0    01-05-2022  May-22    W 19  weekend  May012216558RT11        16558   \n",
       "1    01-05-2022  May-22    W 19  weekend  May012216558RT12        16558   \n",
       "\n",
       "  booking_date checkout_date  no_guests room_category booking_platform  \\\n",
       "0   27-04-2022    02-05-2022          3           RT1    direct online   \n",
       "1   30-04-2022    02-05-2022          2           RT1           others   \n",
       "\n",
       "   ratings_given booking_status  revenue_generated  revenue_realized  \n",
       "0            1.0    Checked Out              10010             10010  \n",
       "1            NaN      Cancelled               9100              3640  "
      ]
     },
     "execution_count": 6,
     "metadata": {},
     "output_type": "execute_result"
    }
   ],
   "source": [
    "df3 = df3.rename(columns={'date': 'check_in_date'})                 #date mrge fact booking\n",
    "df8 = df3.merge(df2, how='right', on='check_in_date')\n",
    "df8.head(2)"
   ]
  },
  {
   "cell_type": "code",
   "execution_count": 7,
   "id": "fe4e0aec",
   "metadata": {},
   "outputs": [],
   "source": [
    "# df5 EDA"
   ]
  },
  {
   "cell_type": "code",
   "execution_count": 8,
   "id": "ce503a3e",
   "metadata": {},
   "outputs": [
    {
     "name": "stdout",
     "output_type": "stream",
     "text": [
      "<class 'pandas.core.frame.DataFrame'>\n",
      "Int64Index: 9200 entries, 0 to 9199\n",
      "Data columns (total 8 columns):\n",
      " #   Column               Non-Null Count  Dtype \n",
      "---  ------               --------------  ----- \n",
      " 0   property_id          9200 non-null   int64 \n",
      " 1   property_name        9200 non-null   object\n",
      " 2   category             9200 non-null   object\n",
      " 3   city                 9200 non-null   object\n",
      " 4   check_in_date        9200 non-null   object\n",
      " 5   room_category        9200 non-null   object\n",
      " 6   successful_bookings  9200 non-null   int64 \n",
      " 7   capacity             9200 non-null   int64 \n",
      "dtypes: int64(3), object(5)\n",
      "memory usage: 646.9+ KB\n"
     ]
    }
   ],
   "source": [
    "df5.info()"
   ]
  },
  {
   "cell_type": "code",
   "execution_count": 9,
   "id": "98d10e3e",
   "metadata": {},
   "outputs": [
    {
     "data": {
      "text/html": [
       "<div>\n",
       "<style scoped>\n",
       "    .dataframe tbody tr th:only-of-type {\n",
       "        vertical-align: middle;\n",
       "    }\n",
       "\n",
       "    .dataframe tbody tr th {\n",
       "        vertical-align: top;\n",
       "    }\n",
       "\n",
       "    .dataframe thead th {\n",
       "        text-align: right;\n",
       "    }\n",
       "</style>\n",
       "<table border=\"1\" class=\"dataframe\">\n",
       "  <thead>\n",
       "    <tr style=\"text-align: right;\">\n",
       "      <th></th>\n",
       "      <th>property_id</th>\n",
       "      <th>successful_bookings</th>\n",
       "      <th>capacity</th>\n",
       "    </tr>\n",
       "  </thead>\n",
       "  <tbody>\n",
       "    <tr>\n",
       "      <th>count</th>\n",
       "      <td>9200.000000</td>\n",
       "      <td>9200.000000</td>\n",
       "      <td>9200.000000</td>\n",
       "    </tr>\n",
       "    <tr>\n",
       "      <th>mean</th>\n",
       "      <td>18040.640000</td>\n",
       "      <td>14.629348</td>\n",
       "      <td>25.280000</td>\n",
       "    </tr>\n",
       "    <tr>\n",
       "      <th>std</th>\n",
       "      <td>1099.818325</td>\n",
       "      <td>7.591770</td>\n",
       "      <td>11.440971</td>\n",
       "    </tr>\n",
       "    <tr>\n",
       "      <th>min</th>\n",
       "      <td>16558.000000</td>\n",
       "      <td>1.000000</td>\n",
       "      <td>3.000000</td>\n",
       "    </tr>\n",
       "    <tr>\n",
       "      <th>25%</th>\n",
       "      <td>17558.000000</td>\n",
       "      <td>9.000000</td>\n",
       "      <td>18.000000</td>\n",
       "    </tr>\n",
       "    <tr>\n",
       "      <th>50%</th>\n",
       "      <td>17564.000000</td>\n",
       "      <td>14.000000</td>\n",
       "      <td>25.000000</td>\n",
       "    </tr>\n",
       "    <tr>\n",
       "      <th>75%</th>\n",
       "      <td>18563.000000</td>\n",
       "      <td>19.000000</td>\n",
       "      <td>34.000000</td>\n",
       "    </tr>\n",
       "    <tr>\n",
       "      <th>max</th>\n",
       "      <td>19563.000000</td>\n",
       "      <td>43.000000</td>\n",
       "      <td>50.000000</td>\n",
       "    </tr>\n",
       "  </tbody>\n",
       "</table>\n",
       "</div>"
      ],
      "text/plain": [
       "        property_id  successful_bookings     capacity\n",
       "count   9200.000000          9200.000000  9200.000000\n",
       "mean   18040.640000            14.629348    25.280000\n",
       "std     1099.818325             7.591770    11.440971\n",
       "min    16558.000000             1.000000     3.000000\n",
       "25%    17558.000000             9.000000    18.000000\n",
       "50%    17564.000000            14.000000    25.000000\n",
       "75%    18563.000000            19.000000    34.000000\n",
       "max    19563.000000            43.000000    50.000000"
      ]
     },
     "execution_count": 9,
     "metadata": {},
     "output_type": "execute_result"
    }
   ],
   "source": [
    "df5.describe()"
   ]
  },
  {
   "cell_type": "code",
   "execution_count": 10,
   "id": "3b775bd8",
   "metadata": {},
   "outputs": [
    {
     "data": {
      "text/html": [
       "<div>\n",
       "<style scoped>\n",
       "    .dataframe tbody tr th:only-of-type {\n",
       "        vertical-align: middle;\n",
       "    }\n",
       "\n",
       "    .dataframe tbody tr th {\n",
       "        vertical-align: top;\n",
       "    }\n",
       "\n",
       "    .dataframe thead th {\n",
       "        text-align: right;\n",
       "    }\n",
       "</style>\n",
       "<table border=\"1\" class=\"dataframe\">\n",
       "  <thead>\n",
       "    <tr style=\"text-align: right;\">\n",
       "      <th></th>\n",
       "      <th>property_id</th>\n",
       "      <th>successful_bookings</th>\n",
       "      <th>capacity</th>\n",
       "    </tr>\n",
       "  </thead>\n",
       "  <tbody>\n",
       "    <tr>\n",
       "      <th>property_id</th>\n",
       "      <td>1.000000</td>\n",
       "      <td>0.035876</td>\n",
       "      <td>0.104631</td>\n",
       "    </tr>\n",
       "    <tr>\n",
       "      <th>successful_bookings</th>\n",
       "      <td>0.035876</td>\n",
       "      <td>1.000000</td>\n",
       "      <td>0.840521</td>\n",
       "    </tr>\n",
       "    <tr>\n",
       "      <th>capacity</th>\n",
       "      <td>0.104631</td>\n",
       "      <td>0.840521</td>\n",
       "      <td>1.000000</td>\n",
       "    </tr>\n",
       "  </tbody>\n",
       "</table>\n",
       "</div>"
      ],
      "text/plain": [
       "                     property_id  successful_bookings  capacity\n",
       "property_id             1.000000             0.035876  0.104631\n",
       "successful_bookings     0.035876             1.000000  0.840521\n",
       "capacity                0.104631             0.840521  1.000000"
      ]
     },
     "execution_count": 10,
     "metadata": {},
     "output_type": "execute_result"
    }
   ],
   "source": [
    "df5.corr()"
   ]
  },
  {
   "cell_type": "code",
   "execution_count": 11,
   "id": "c232cbff",
   "metadata": {},
   "outputs": [
    {
     "data": {
      "text/plain": [
       "property_id            25\n",
       "property_name           7\n",
       "category                2\n",
       "city                    4\n",
       "check_in_date          92\n",
       "room_category           4\n",
       "successful_bookings    42\n",
       "capacity               38\n",
       "dtype: int64"
      ]
     },
     "execution_count": 11,
     "metadata": {},
     "output_type": "execute_result"
    }
   ],
   "source": [
    "df5.nunique()"
   ]
  },
  {
   "cell_type": "code",
   "execution_count": 12,
   "id": "d4ca167b",
   "metadata": {},
   "outputs": [
    {
     "data": {
      "text/plain": [
       "property_id            0\n",
       "property_name          0\n",
       "category               0\n",
       "city                   0\n",
       "check_in_date          0\n",
       "room_category          0\n",
       "successful_bookings    0\n",
       "capacity               0\n",
       "dtype: int64"
      ]
     },
     "execution_count": 12,
     "metadata": {},
     "output_type": "execute_result"
    }
   ],
   "source": [
    "df5.isna().sum()"
   ]
  },
  {
   "cell_type": "code",
   "execution_count": 13,
   "id": "0d65ad5b",
   "metadata": {
    "scrolled": false
   },
   "outputs": [
    {
     "data": {
      "text/html": [
       "<div>\n",
       "<style scoped>\n",
       "    .dataframe tbody tr th:only-of-type {\n",
       "        vertical-align: middle;\n",
       "    }\n",
       "\n",
       "    .dataframe tbody tr th {\n",
       "        vertical-align: top;\n",
       "    }\n",
       "\n",
       "    .dataframe thead th {\n",
       "        text-align: right;\n",
       "    }\n",
       "</style>\n",
       "<table border=\"1\" class=\"dataframe\">\n",
       "  <thead>\n",
       "    <tr style=\"text-align: right;\">\n",
       "      <th></th>\n",
       "      <th>property_id</th>\n",
       "      <th>property_name</th>\n",
       "      <th>category</th>\n",
       "      <th>city</th>\n",
       "      <th>check_in_date</th>\n",
       "      <th>room_category</th>\n",
       "      <th>successful_bookings</th>\n",
       "      <th>capacity</th>\n",
       "    </tr>\n",
       "  </thead>\n",
       "  <tbody>\n",
       "    <tr>\n",
       "      <th>0</th>\n",
       "      <td>16559</td>\n",
       "      <td>Atliq Exotica</td>\n",
       "      <td>Luxury</td>\n",
       "      <td>Mumbai</td>\n",
       "      <td>01-05-2022</td>\n",
       "      <td>RT1</td>\n",
       "      <td>25</td>\n",
       "      <td>30</td>\n",
       "    </tr>\n",
       "    <tr>\n",
       "      <th>1</th>\n",
       "      <td>19562</td>\n",
       "      <td>Atliq Bay</td>\n",
       "      <td>Luxury</td>\n",
       "      <td>Bangalore</td>\n",
       "      <td>01-05-2022</td>\n",
       "      <td>RT1</td>\n",
       "      <td>28</td>\n",
       "      <td>30</td>\n",
       "    </tr>\n",
       "    <tr>\n",
       "      <th>2</th>\n",
       "      <td>19563</td>\n",
       "      <td>Atliq Palace</td>\n",
       "      <td>Business</td>\n",
       "      <td>Bangalore</td>\n",
       "      <td>01-05-2022</td>\n",
       "      <td>RT1</td>\n",
       "      <td>23</td>\n",
       "      <td>30</td>\n",
       "    </tr>\n",
       "    <tr>\n",
       "      <th>3</th>\n",
       "      <td>17558</td>\n",
       "      <td>Atliq Grands</td>\n",
       "      <td>Luxury</td>\n",
       "      <td>Mumbai</td>\n",
       "      <td>01-05-2022</td>\n",
       "      <td>RT1</td>\n",
       "      <td>13</td>\n",
       "      <td>19</td>\n",
       "    </tr>\n",
       "    <tr>\n",
       "      <th>4</th>\n",
       "      <td>16558</td>\n",
       "      <td>Atliq Grands</td>\n",
       "      <td>Luxury</td>\n",
       "      <td>Delhi</td>\n",
       "      <td>01-05-2022</td>\n",
       "      <td>RT1</td>\n",
       "      <td>18</td>\n",
       "      <td>19</td>\n",
       "    </tr>\n",
       "  </tbody>\n",
       "</table>\n",
       "</div>"
      ],
      "text/plain": [
       "   property_id  property_name  category       city check_in_date  \\\n",
       "0        16559  Atliq Exotica    Luxury     Mumbai    01-05-2022   \n",
       "1        19562      Atliq Bay    Luxury  Bangalore    01-05-2022   \n",
       "2        19563   Atliq Palace  Business  Bangalore    01-05-2022   \n",
       "3        17558   Atliq Grands    Luxury     Mumbai    01-05-2022   \n",
       "4        16558   Atliq Grands    Luxury      Delhi    01-05-2022   \n",
       "\n",
       "  room_category  successful_bookings  capacity  \n",
       "0           RT1                   25        30  \n",
       "1           RT1                   28        30  \n",
       "2           RT1                   23        30  \n",
       "3           RT1                   13        19  \n",
       "4           RT1                   18        19  "
      ]
     },
     "execution_count": 13,
     "metadata": {},
     "output_type": "execute_result"
    }
   ],
   "source": [
    "df5.head()"
   ]
  },
  {
   "cell_type": "code",
   "execution_count": 14,
   "id": "c56aba23",
   "metadata": {},
   "outputs": [
    {
     "data": {
      "text/html": [
       "<div>\n",
       "<style scoped>\n",
       "    .dataframe tbody tr th:only-of-type {\n",
       "        vertical-align: middle;\n",
       "    }\n",
       "\n",
       "    .dataframe tbody tr th {\n",
       "        vertical-align: top;\n",
       "    }\n",
       "\n",
       "    .dataframe thead th {\n",
       "        text-align: right;\n",
       "    }\n",
       "</style>\n",
       "<table border=\"1\" class=\"dataframe\">\n",
       "  <thead>\n",
       "    <tr style=\"text-align: right;\">\n",
       "      <th></th>\n",
       "      <th>property_id</th>\n",
       "      <th>property_name</th>\n",
       "      <th>category</th>\n",
       "      <th>city</th>\n",
       "      <th>check_in_date</th>\n",
       "      <th>room_category</th>\n",
       "      <th>successful_bookings</th>\n",
       "      <th>capacity</th>\n",
       "    </tr>\n",
       "  </thead>\n",
       "  <tbody>\n",
       "    <tr>\n",
       "      <th>9195</th>\n",
       "      <td>16563</td>\n",
       "      <td>Atliq Palace</td>\n",
       "      <td>Business</td>\n",
       "      <td>Delhi</td>\n",
       "      <td>31-07-2022</td>\n",
       "      <td>RT4</td>\n",
       "      <td>13</td>\n",
       "      <td>18</td>\n",
       "    </tr>\n",
       "    <tr>\n",
       "      <th>9196</th>\n",
       "      <td>16559</td>\n",
       "      <td>Atliq Exotica</td>\n",
       "      <td>Luxury</td>\n",
       "      <td>Mumbai</td>\n",
       "      <td>31-07-2022</td>\n",
       "      <td>RT4</td>\n",
       "      <td>13</td>\n",
       "      <td>18</td>\n",
       "    </tr>\n",
       "    <tr>\n",
       "      <th>9197</th>\n",
       "      <td>17558</td>\n",
       "      <td>Atliq Grands</td>\n",
       "      <td>Luxury</td>\n",
       "      <td>Mumbai</td>\n",
       "      <td>31-07-2022</td>\n",
       "      <td>RT4</td>\n",
       "      <td>3</td>\n",
       "      <td>6</td>\n",
       "    </tr>\n",
       "    <tr>\n",
       "      <th>9198</th>\n",
       "      <td>19563</td>\n",
       "      <td>Atliq Palace</td>\n",
       "      <td>Business</td>\n",
       "      <td>Bangalore</td>\n",
       "      <td>31-07-2022</td>\n",
       "      <td>RT4</td>\n",
       "      <td>3</td>\n",
       "      <td>6</td>\n",
       "    </tr>\n",
       "    <tr>\n",
       "      <th>9199</th>\n",
       "      <td>17561</td>\n",
       "      <td>Atliq Blu</td>\n",
       "      <td>Luxury</td>\n",
       "      <td>Mumbai</td>\n",
       "      <td>31-07-2022</td>\n",
       "      <td>RT4</td>\n",
       "      <td>3</td>\n",
       "      <td>4</td>\n",
       "    </tr>\n",
       "  </tbody>\n",
       "</table>\n",
       "</div>"
      ],
      "text/plain": [
       "      property_id  property_name  category       city check_in_date  \\\n",
       "9195        16563   Atliq Palace  Business      Delhi    31-07-2022   \n",
       "9196        16559  Atliq Exotica    Luxury     Mumbai    31-07-2022   \n",
       "9197        17558   Atliq Grands    Luxury     Mumbai    31-07-2022   \n",
       "9198        19563   Atliq Palace  Business  Bangalore    31-07-2022   \n",
       "9199        17561      Atliq Blu    Luxury     Mumbai    31-07-2022   \n",
       "\n",
       "     room_category  successful_bookings  capacity  \n",
       "9195           RT4                   13        18  \n",
       "9196           RT4                   13        18  \n",
       "9197           RT4                    3         6  \n",
       "9198           RT4                    3         6  \n",
       "9199           RT4                    3         4  "
      ]
     },
     "execution_count": 14,
     "metadata": {},
     "output_type": "execute_result"
    }
   ],
   "source": [
    "df5.tail()"
   ]
  },
  {
   "cell_type": "code",
   "execution_count": 15,
   "id": "ee6dce70",
   "metadata": {},
   "outputs": [
    {
     "data": {
      "image/png": "[encoded data removed]",
      "text/plain": [
       "<Figure size 864x576 with 2 Axes>"
      ]
     },
     "metadata": {
      "needs_background": "light"
     },
     "output_type": "display_data"
    }
   ],
   "source": [
    "plt.figure(figsize=(12,8))\n",
    "sns.heatmap(df5.corr(), cmap='BrBG', annot=True)\n",
    "plt.show()"
   ]
  },
  {
   "cell_type": "code",
   "execution_count": 16,
   "id": "77c48299",
   "metadata": {},
   "outputs": [
    {
     "data": {
      "image/png": "[encoded data removed]",
      "text/plain": [
       "<Figure size 864x576 with 1 Axes>"
      ]
     },
     "metadata": {
      "needs_background": "light"
     },
     "output_type": "display_data"
    }
   ],
   "source": [
    "plt.figure(figsize=(12,8))\n",
    "sns.barplot(x=df5['category'], y=df5['capacity'], estimator=np.mean)\n",
    "plt.show()"
   ]
  },
  {
   "cell_type": "code",
   "execution_count": 17,
   "id": "7b22e334",
   "metadata": {},
   "outputs": [
    {
     "data": {
      "image/png": "[encoded data removed]",
      "text/plain": [
       "<Figure size 864x576 with 1 Axes>"
      ]
     },
     "metadata": {
      "needs_background": "light"
     },
     "output_type": "display_data"
    }
   ],
   "source": [
    "plt.figure(figsize=(12,8))\n",
    "plt.hist(df5['capacity'], bins=20, color='green' ,histtype='stepfilled',stacked=True )\n",
    "plt.show()"
   ]
  },
  {
   "cell_type": "code",
   "execution_count": 18,
   "id": "22f7b847",
   "metadata": {},
   "outputs": [
    {
     "data": {
      "image/png": "[encoded data removed]",
      "text/plain": [
       "<Figure size 864x576 with 1 Axes>"
      ]
     },
     "metadata": {
      "needs_background": "light"
     },
     "output_type": "display_data"
    }
   ],
   "source": [
    "plt.figure(figsize=(12,8))\n",
    "plt.hist(df5['capacity'], bins=15, color='green' ,histtype='stepfilled',stacked=True )\n",
    "plt.axvline(df5['capacity'].mean(), color='red', label='mean', linestyle='dashed', linewidth=3)\n",
    "plt.axvline(df5['capacity'].median(), color='blue', label='median', linestyle='dashed', linewidth=3)\n",
    "plt.legend()\n",
    "plt.show()"
   ]
  },
  {
   "cell_type": "code",
   "execution_count": 19,
   "id": "fe3a0f45",
   "metadata": {},
   "outputs": [
    {
     "data": {
      "image/png": "[encoded data removed]",
      "text/plain": [
       "<Figure size 864x576 with 1 Axes>"
      ]
     },
     "metadata": {
      "needs_background": "light"
     },
     "output_type": "display_data"
    }
   ],
   "source": [
    "plt.figure(figsize=(12,8))\n",
    "plt.hist(df5['successful_bookings'], bins=15 ,histtype='stepfilled',stacked=True )\n",
    "plt.axvline(df5['successful_bookings'].mean(), color='red', label='mean', linestyle='dashed', linewidth=3)\n",
    "plt.axvline(df5['successful_bookings'].median(), color='blue', label='median', linestyle='dashed', linewidth=3)\n",
    "plt.legend()\n",
    "plt.show()"
   ]
  },
  {
   "cell_type": "raw",
   "id": "b3625c32",
   "metadata": {},
   "source": [
    "plt.figure(figsize=(12, 8))\n",
    "plt.pie(df5['capacity'], labels=df5['category'], autopct='%1.1f%%', startangle=140)\n",
    "plt.axis('equal')  \n",
    "plt.show()"
   ]
  },
  {
   "cell_type": "raw",
   "id": "011db175",
   "metadata": {
    "scrolled": true
   },
   "source": [
    "\n",
    "df5['check_in_date'] = pd.to_datetime(df5['check_in_date'])\n",
    "df5 = df5.sort_values('check_in_date')\n",
    "\n",
    "plt.figure(figsize=(12, 8))\n",
    "plt.plot(df5['check_in_date'], df5['successful_bookings'], marker='o', linestyle='-')\n",
    "plt.title('Successful Bookings Over Time')\n",
    "plt.xlabel('Check-in Date')\n",
    "plt.ylabel('Number of Successful Bookings')\n",
    "plt.grid(True)\n",
    "plt.tight_layout()\n",
    "plt.show()\n"
   ]
  },
  {
   "cell_type": "code",
   "execution_count": 21,
   "id": "b04cdc10",
   "metadata": {},
   "outputs": [
    {
     "data": {
      "text/plain": [
       "<AxesSubplot:xlabel='category', ylabel='count'>"
      ]
     },
     "execution_count": 21,
     "metadata": {},
     "output_type": "execute_result"
    },
    {
     "data": {
      "image/png": "[encoded data removed]",
      "text/plain": [
       "<Figure size 432x288 with 1 Axes>"
      ]
     },
     "metadata": {
      "needs_background": "light"
     },
     "output_type": "display_data"
    }
   ],
   "source": [
    "sns.countplot(x=df5['category'])"
   ]
  },
  {
   "cell_type": "raw",
   "id": "114b04e3",
   "metadata": {},
   "source": [
    "plt.figure(figsize=(12,8))\n",
    "sns.scatterplot(x=df5['capacity'],y=df5['successful_bookings'], hue=df5['city'])\n",
    "plt.show()"
   ]
  },
  {
   "cell_type": "code",
   "execution_count": null,
   "id": "5008d8be",
   "metadata": {},
   "outputs": [],
   "source": [
    "sns.pairplot(df5, size=6, height=3.0, palette='viridis')\n"
   ]
  },
  {
   "cell_type": "code",
   "execution_count": null,
   "id": "9c0e0546",
   "metadata": {},
   "outputs": [],
   "source": []
  },
  {
   "cell_type": "code",
   "execution_count": null,
   "id": "f8f0055b",
   "metadata": {},
   "outputs": [],
   "source": []
  },
  {
   "cell_type": "code",
   "execution_count": 23,
   "id": "8de62a6a",
   "metadata": {},
   "outputs": [],
   "source": [
    "# df6 EDA"
   ]
  },
  {
   "cell_type": "code",
   "execution_count": 24,
   "id": "4f2718d5",
   "metadata": {},
   "outputs": [
    {
     "name": "stdout",
     "output_type": "stream",
     "text": [
      "<class 'pandas.core.frame.DataFrame'>\n",
      "Int64Index: 134590 entries, 0 to 134589\n",
      "Data columns (total 15 columns):\n",
      " #   Column             Non-Null Count   Dtype  \n",
      "---  ------             --------------   -----  \n",
      " 0   booking_id         134590 non-null  object \n",
      " 1   property_id        134590 non-null  int64  \n",
      " 2   booking_date       134590 non-null  object \n",
      " 3   check_in_date      134590 non-null  object \n",
      " 4   checkout_date      134590 non-null  object \n",
      " 5   no_guests          134590 non-null  int64  \n",
      " 6   room_category      134590 non-null  object \n",
      " 7   booking_platform   134590 non-null  object \n",
      " 8   ratings_given      56683 non-null   float64\n",
      " 9   booking_status     134590 non-null  object \n",
      " 10  revenue_generated  134590 non-null  int64  \n",
      " 11  revenue_realized   134590 non-null  int64  \n",
      " 12  property_name      134590 non-null  object \n",
      " 13  category           134590 non-null  object \n",
      " 14  city               134590 non-null  object \n",
      "dtypes: float64(1), int64(4), object(10)\n",
      "memory usage: 16.4+ MB\n"
     ]
    }
   ],
   "source": [
    "df6.info()"
   ]
  },
  {
   "cell_type": "code",
   "execution_count": 25,
   "id": "cd571d02",
   "metadata": {},
   "outputs": [
    {
     "data": {
      "text/html": [
       "<div>\n",
       "<style scoped>\n",
       "    .dataframe tbody tr th:only-of-type {\n",
       "        vertical-align: middle;\n",
       "    }\n",
       "\n",
       "    .dataframe tbody tr th {\n",
       "        vertical-align: top;\n",
       "    }\n",
       "\n",
       "    .dataframe thead th {\n",
       "        text-align: right;\n",
       "    }\n",
       "</style>\n",
       "<table border=\"1\" class=\"dataframe\">\n",
       "  <thead>\n",
       "    <tr style=\"text-align: right;\">\n",
       "      <th></th>\n",
       "      <th>property_id</th>\n",
       "      <th>no_guests</th>\n",
       "      <th>ratings_given</th>\n",
       "      <th>revenue_generated</th>\n",
       "      <th>revenue_realized</th>\n",
       "    </tr>\n",
       "  </thead>\n",
       "  <tbody>\n",
       "    <tr>\n",
       "      <th>count</th>\n",
       "      <td>134590.000000</td>\n",
       "      <td>134590.000000</td>\n",
       "      <td>56683.000000</td>\n",
       "      <td>134590.000000</td>\n",
       "      <td>134590.000000</td>\n",
       "    </tr>\n",
       "    <tr>\n",
       "      <th>mean</th>\n",
       "      <td>18061.113493</td>\n",
       "      <td>2.036808</td>\n",
       "      <td>3.619004</td>\n",
       "      <td>14916.013188</td>\n",
       "      <td>12696.123256</td>\n",
       "    </tr>\n",
       "    <tr>\n",
       "      <th>std</th>\n",
       "      <td>1093.055847</td>\n",
       "      <td>1.031766</td>\n",
       "      <td>1.235009</td>\n",
       "      <td>6452.868072</td>\n",
       "      <td>6928.108124</td>\n",
       "    </tr>\n",
       "    <tr>\n",
       "      <th>min</th>\n",
       "      <td>16558.000000</td>\n",
       "      <td>1.000000</td>\n",
       "      <td>1.000000</td>\n",
       "      <td>6500.000000</td>\n",
       "      <td>2600.000000</td>\n",
       "    </tr>\n",
       "    <tr>\n",
       "      <th>25%</th>\n",
       "      <td>17558.000000</td>\n",
       "      <td>1.000000</td>\n",
       "      <td>3.000000</td>\n",
       "      <td>9900.000000</td>\n",
       "      <td>7600.000000</td>\n",
       "    </tr>\n",
       "    <tr>\n",
       "      <th>50%</th>\n",
       "      <td>17564.000000</td>\n",
       "      <td>2.000000</td>\n",
       "      <td>4.000000</td>\n",
       "      <td>13500.000000</td>\n",
       "      <td>11700.000000</td>\n",
       "    </tr>\n",
       "    <tr>\n",
       "      <th>75%</th>\n",
       "      <td>18563.000000</td>\n",
       "      <td>2.000000</td>\n",
       "      <td>5.000000</td>\n",
       "      <td>18000.000000</td>\n",
       "      <td>15300.000000</td>\n",
       "    </tr>\n",
       "    <tr>\n",
       "      <th>max</th>\n",
       "      <td>19563.000000</td>\n",
       "      <td>6.000000</td>\n",
       "      <td>5.000000</td>\n",
       "      <td>45220.000000</td>\n",
       "      <td>45220.000000</td>\n",
       "    </tr>\n",
       "  </tbody>\n",
       "</table>\n",
       "</div>"
      ],
      "text/plain": [
       "         property_id      no_guests  ratings_given  revenue_generated  \\\n",
       "count  134590.000000  134590.000000   56683.000000      134590.000000   \n",
       "mean    18061.113493       2.036808       3.619004       14916.013188   \n",
       "std      1093.055847       1.031766       1.235009        6452.868072   \n",
       "min     16558.000000       1.000000       1.000000        6500.000000   \n",
       "25%     17558.000000       1.000000       3.000000        9900.000000   \n",
       "50%     17564.000000       2.000000       4.000000       13500.000000   \n",
       "75%     18563.000000       2.000000       5.000000       18000.000000   \n",
       "max     19563.000000       6.000000       5.000000       45220.000000   \n",
       "\n",
       "       revenue_realized  \n",
       "count     134590.000000  \n",
       "mean       12696.123256  \n",
       "std         6928.108124  \n",
       "min         2600.000000  \n",
       "25%         7600.000000  \n",
       "50%        11700.000000  \n",
       "75%        15300.000000  \n",
       "max        45220.000000  "
      ]
     },
     "execution_count": 25,
     "metadata": {},
     "output_type": "execute_result"
    }
   ],
   "source": [
    "df6.describe()"
   ]
  },
  {
   "cell_type": "code",
   "execution_count": 26,
   "id": "d4e946e2",
   "metadata": {},
   "outputs": [
    {
     "data": {
      "text/html": [
       "<div>\n",
       "<style scoped>\n",
       "    .dataframe tbody tr th:only-of-type {\n",
       "        vertical-align: middle;\n",
       "    }\n",
       "\n",
       "    .dataframe tbody tr th {\n",
       "        vertical-align: top;\n",
       "    }\n",
       "\n",
       "    .dataframe thead th {\n",
       "        text-align: right;\n",
       "    }\n",
       "</style>\n",
       "<table border=\"1\" class=\"dataframe\">\n",
       "  <thead>\n",
       "    <tr style=\"text-align: right;\">\n",
       "      <th></th>\n",
       "      <th>property_id</th>\n",
       "      <th>no_guests</th>\n",
       "      <th>ratings_given</th>\n",
       "      <th>revenue_generated</th>\n",
       "      <th>revenue_realized</th>\n",
       "    </tr>\n",
       "  </thead>\n",
       "  <tbody>\n",
       "    <tr>\n",
       "      <th>property_id</th>\n",
       "      <td>1.000000</td>\n",
       "      <td>0.011037</td>\n",
       "      <td>-0.115720</td>\n",
       "      <td>-0.125010</td>\n",
       "      <td>-0.100073</td>\n",
       "    </tr>\n",
       "    <tr>\n",
       "      <th>no_guests</th>\n",
       "      <td>0.011037</td>\n",
       "      <td>1.000000</td>\n",
       "      <td>-0.003056</td>\n",
       "      <td>0.215558</td>\n",
       "      <td>0.170780</td>\n",
       "    </tr>\n",
       "    <tr>\n",
       "      <th>ratings_given</th>\n",
       "      <td>-0.115720</td>\n",
       "      <td>-0.003056</td>\n",
       "      <td>1.000000</td>\n",
       "      <td>0.004179</td>\n",
       "      <td>0.004179</td>\n",
       "    </tr>\n",
       "    <tr>\n",
       "      <th>revenue_generated</th>\n",
       "      <td>-0.125010</td>\n",
       "      <td>0.215558</td>\n",
       "      <td>0.004179</td>\n",
       "      <td>1.000000</td>\n",
       "      <td>0.794316</td>\n",
       "    </tr>\n",
       "    <tr>\n",
       "      <th>revenue_realized</th>\n",
       "      <td>-0.100073</td>\n",
       "      <td>0.170780</td>\n",
       "      <td>0.004179</td>\n",
       "      <td>0.794316</td>\n",
       "      <td>1.000000</td>\n",
       "    </tr>\n",
       "  </tbody>\n",
       "</table>\n",
       "</div>"
      ],
      "text/plain": [
       "                   property_id  no_guests  ratings_given  revenue_generated  \\\n",
       "property_id           1.000000   0.011037      -0.115720          -0.125010   \n",
       "no_guests             0.011037   1.000000      -0.003056           0.215558   \n",
       "ratings_given        -0.115720  -0.003056       1.000000           0.004179   \n",
       "revenue_generated    -0.125010   0.215558       0.004179           1.000000   \n",
       "revenue_realized     -0.100073   0.170780       0.004179           0.794316   \n",
       "\n",
       "                   revenue_realized  \n",
       "property_id               -0.100073  \n",
       "no_guests                  0.170780  \n",
       "ratings_given              0.004179  \n",
       "revenue_generated          0.794316  \n",
       "revenue_realized           1.000000  "
      ]
     },
     "execution_count": 26,
     "metadata": {},
     "output_type": "execute_result"
    }
   ],
   "source": [
    "df6.corr()"
   ]
  },
  {
   "cell_type": "code",
   "execution_count": 27,
   "id": "ab237604",
   "metadata": {},
   "outputs": [
    {
     "data": {
      "text/plain": [
       "booking_id           134590\n",
       "property_id              25\n",
       "booking_date            116\n",
       "check_in_date            92\n",
       "checkout_date            97\n",
       "no_guests                 6\n",
       "room_category             4\n",
       "booking_platform          7\n",
       "ratings_given             5\n",
       "booking_status            3\n",
       "revenue_generated        62\n",
       "revenue_realized        124\n",
       "property_name             7\n",
       "category                  2\n",
       "city                      4\n",
       "dtype: int64"
      ]
     },
     "execution_count": 27,
     "metadata": {},
     "output_type": "execute_result"
    }
   ],
   "source": [
    "df6.nunique()"
   ]
  },
  {
   "cell_type": "code",
   "execution_count": 28,
   "id": "e6bda0a3",
   "metadata": {},
   "outputs": [
    {
     "data": {
      "text/plain": [
       "booking_id               0\n",
       "property_id              0\n",
       "booking_date             0\n",
       "check_in_date            0\n",
       "checkout_date            0\n",
       "no_guests                0\n",
       "room_category            0\n",
       "booking_platform         0\n",
       "ratings_given        77907\n",
       "booking_status           0\n",
       "revenue_generated        0\n",
       "revenue_realized         0\n",
       "property_name            0\n",
       "category                 0\n",
       "city                     0\n",
       "dtype: int64"
      ]
     },
     "execution_count": 28,
     "metadata": {},
     "output_type": "execute_result"
    }
   ],
   "source": [
    "df6.isna().sum()"
   ]
  },
  {
   "cell_type": "code",
   "execution_count": 29,
   "id": "a0f42f4f",
   "metadata": {},
   "outputs": [
    {
     "data": {
      "image/png": "[encoded data removed]",
      "text/plain": [
       "<Figure size 864x576 with 2 Axes>"
      ]
     },
     "metadata": {
      "needs_background": "light"
     },
     "output_type": "display_data"
    }
   ],
   "source": [
    "plt.figure(figsize=(12,8))\n",
    "sns.heatmap(df6.corr(), cmap='BrBG', annot=True)\n",
    "plt.show()"
   ]
  },
  {
   "cell_type": "code",
   "execution_count": 30,
   "id": "549e7495",
   "metadata": {},
   "outputs": [
    {
     "data": {
      "image/png": "[encoded data removed]",
      "text/plain": [
       "<Figure size 864x576 with 1 Axes>"
      ]
     },
     "metadata": {
      "needs_background": "light"
     },
     "output_type": "display_data"
    }
   ],
   "source": [
    "plt.figure(figsize=(12,8))\n",
    "plt.hist(df6['revenue_generated'], bins=15, color='green' ,histtype='stepfilled',stacked=True )\n",
    "plt.axvline(df6['revenue_generated'].mean(), color='red', label='mean', linestyle='dashed', linewidth=3)\n",
    "plt.axvline(df6['revenue_generated'].median(), color='blue', label='median', linestyle='dashed', linewidth=3)\n",
    "plt.legend()\n",
    "plt.show()"
   ]
  },
  {
   "cell_type": "markdown",
   "id": "a5abc357",
   "metadata": {},
   "source": [
    "plt.figure(figsize=(12, 8))\n",
    "plt.pie(df6['ratings_given'], labels=df5['booking_platform'], autopct='%1.1f%%', startangle=140)\n",
    "plt.axis('equal')  \n",
    "plt.show()"
   ]
  },
  {
   "cell_type": "markdown",
   "id": "b1dae3ec",
   "metadata": {},
   "source": [
    "plt.figure(figsize=(12,8))\n",
    "sns.barplot(x=df6['booking_platform'], y=df6['ratings_given'], estimator=np.mean)\n",
    "plt.show()"
   ]
  },
  {
   "cell_type": "code",
   "execution_count": 31,
   "id": "ea932d05",
   "metadata": {},
   "outputs": [
    {
     "data": {
      "text/plain": [
       "<AxesSubplot:xlabel='category', ylabel='count'>"
      ]
     },
     "execution_count": 31,
     "metadata": {},
     "output_type": "execute_result"
    },
    {
     "data": {
      "image/png": "[encoded data removed]",
      "text/plain": [
       "<Figure size 432x288 with 1 Axes>"
      ]
     },
     "metadata": {
      "needs_background": "light"
     },
     "output_type": "display_data"
    }
   ],
   "source": [
    "sns.countplot(x=df6['category'])"
   ]
  },
  {
   "cell_type": "code",
   "execution_count": 32,
   "id": "d309afa4",
   "metadata": {
    "scrolled": true
   },
   "outputs": [
    {
     "data": {
      "image/png": "[encoded data removed]",
      "text/plain": [
       "<Figure size 864x576 with 1 Axes>"
      ]
     },
     "metadata": {
      "needs_background": "light"
     },
     "output_type": "display_data"
    }
   ],
   "source": [
    "plt.figure(figsize=(12,8))\n",
    "sns.lineplot(x=df6['category'],y=df6['ratings_given'],hue=df6['booking_status'])\n",
    "plt.show()"
   ]
  },
  {
   "cell_type": "markdown",
   "id": "b57e98ca",
   "metadata": {},
   "source": [
    "sns.pairplot(df6, size=6, height=3.0, palette='viridis')"
   ]
  },
  {
   "cell_type": "code",
   "execution_count": null,
   "id": "528416a7",
   "metadata": {},
   "outputs": [],
   "source": []
  },
  {
   "cell_type": "code",
   "execution_count": 33,
   "id": "cb746f7d",
   "metadata": {},
   "outputs": [],
   "source": [
    "# df7 EDA"
   ]
  },
  {
   "cell_type": "code",
   "execution_count": 51,
   "id": "ed572227",
   "metadata": {},
   "outputs": [
    {
     "name": "stdout",
     "output_type": "stream",
     "text": [
      "<class 'pandas.core.frame.DataFrame'>\n",
      "Int64Index: 13459000 entries, 0 to 13458999\n",
      "Data columns (total 16 columns):\n",
      " #   Column               Dtype  \n",
      "---  ------               -----  \n",
      " 0   booking_id           object \n",
      " 1   property_id          int64  \n",
      " 2   booking_date         object \n",
      " 3   check_in_date        object \n",
      " 4   checkout_date        object \n",
      " 5   no_guests            int64  \n",
      " 6   room_category_x      object \n",
      " 7   booking_platform     object \n",
      " 8   ratings_given        float64\n",
      " 9   booking_status       object \n",
      " 10  revenue_generated    int64  \n",
      " 11  revenue_realized     int64  \n",
      " 12  property_id_y        int64  \n",
      " 13  room_category_y      object \n",
      " 14  successful_bookings  int64  \n",
      " 15  capacity             int64  \n",
      "dtypes: float64(1), int64(7), object(8)\n",
      "memory usage: 1.7+ GB\n"
     ]
    }
   ],
   "source": [
    "df7.info()"
   ]
  },
  {
   "cell_type": "code",
   "execution_count": null,
   "id": "07fdf6e9",
   "metadata": {},
   "outputs": [],
   "source": [
    "df7.describe()"
   ]
  },
  {
   "cell_type": "code",
   "execution_count": null,
   "id": "da13d810",
   "metadata": {},
   "outputs": [],
   "source": [
    "df7.nunique()"
   ]
  },
  {
   "cell_type": "code",
   "execution_count": null,
   "id": "0c21a8b7",
   "metadata": {},
   "outputs": [],
   "source": [
    "df7.isna().sum()"
   ]
  },
  {
   "cell_type": "code",
   "execution_count": 52,
   "id": "33db8cfd",
   "metadata": {},
   "outputs": [
    {
     "data": {
      "text/plain": [
       "others            5506600\n",
       "makeyourtrip      2689800\n",
       "logtrip           1475600\n",
       "direct online     1337900\n",
       "tripster           963000\n",
       "journey            810600\n",
       "direct offline     675500\n",
       "Name: booking_platform, dtype: int64"
      ]
     },
     "execution_count": 52,
     "metadata": {},
     "output_type": "execute_result"
    }
   ],
   "source": [
    "df7['booking_platform'].value_counts()"
   ]
  },
  {
   "cell_type": "code",
   "execution_count": 62,
   "id": "47d4d580",
   "metadata": {},
   "outputs": [
    {
     "data": {
      "image/png": "[encoded data removed]",
      "text/plain": [
       "<Figure size 864x576 with 1 Axes>"
      ]
     },
     "metadata": {
      "needs_background": "light"
     },
     "output_type": "display_data"
    }
   ],
   "source": [
    "plt.figure(figsize=(12,8))\n",
    "sns.countplot(x=df7['booking_platform'])\n",
    "plt.show()"
   ]
  },
  {
   "cell_type": "markdown",
   "id": "c8358650",
   "metadata": {},
   "source": [
    "sns.pairplot(df7, size=6, height=3.0, palette='viridis')"
   ]
  },
  {
   "cell_type": "code",
   "execution_count": null,
   "id": "b4d04b78",
   "metadata": {},
   "outputs": [],
   "source": []
  },
  {
   "cell_type": "code",
   "execution_count": 41,
   "id": "76fb843c",
   "metadata": {},
   "outputs": [],
   "source": [
    "# df8 EDA"
   ]
  },
  {
   "cell_type": "code",
   "execution_count": 55,
   "id": "8f565e29",
   "metadata": {},
   "outputs": [
    {
     "name": "stdout",
     "output_type": "stream",
     "text": [
      "<class 'pandas.core.frame.DataFrame'>\n",
      "Int64Index: 134590 entries, 0 to 134589\n",
      "Data columns (total 15 columns):\n",
      " #   Column             Non-Null Count   Dtype  \n",
      "---  ------             --------------   -----  \n",
      " 0   check_in_date      134590 non-null  object \n",
      " 1   mmm yy             134590 non-null  object \n",
      " 2   week no            134590 non-null  object \n",
      " 3   day_type           134590 non-null  object \n",
      " 4   booking_id         134590 non-null  object \n",
      " 5   property_id        134590 non-null  int64  \n",
      " 6   booking_date       134590 non-null  object \n",
      " 7   checkout_date      134590 non-null  object \n",
      " 8   no_guests          134590 non-null  int64  \n",
      " 9   room_category      134590 non-null  object \n",
      " 10  booking_platform   134590 non-null  object \n",
      " 11  ratings_given      56683 non-null   float64\n",
      " 12  booking_status     134590 non-null  object \n",
      " 13  revenue_generated  134590 non-null  int64  \n",
      " 14  revenue_realized   134590 non-null  int64  \n",
      "dtypes: float64(1), int64(4), object(10)\n",
      "memory usage: 16.4+ MB\n"
     ]
    }
   ],
   "source": [
    "df8.info()"
   ]
  },
  {
   "cell_type": "code",
   "execution_count": null,
   "id": "f8e47e28",
   "metadata": {},
   "outputs": [],
   "source": [
    "df8.describe()"
   ]
  },
  {
   "cell_type": "code",
   "execution_count": null,
   "id": "d87fc308",
   "metadata": {},
   "outputs": [],
   "source": [
    "df8.nunique()"
   ]
  },
  {
   "cell_type": "code",
   "execution_count": null,
   "id": "2f8b002c",
   "metadata": {},
   "outputs": [],
   "source": [
    "df8.isna().sum()"
   ]
  },
  {
   "cell_type": "code",
   "execution_count": 58,
   "id": "01e3cfa9",
   "metadata": {},
   "outputs": [
    {
     "data": {
      "text/plain": [
       "5.0    19480\n",
       "3.0    17561\n",
       "4.0     9653\n",
       "2.0     6452\n",
       "1.0     3537\n",
       "Name: ratings_given, dtype: int64"
      ]
     },
     "execution_count": 58,
     "metadata": {},
     "output_type": "execute_result"
    }
   ],
   "source": [
    "df8['ratings_given'].value_counts()"
   ]
  },
  {
   "cell_type": "code",
   "execution_count": 61,
   "id": "da70562c",
   "metadata": {},
   "outputs": [
    {
     "data": {
      "image/png": "[encoded data removed]",
      "text/plain": [
       "<Figure size 864x576 with 1 Axes>"
      ]
     },
     "metadata": {
      "needs_background": "light"
     },
     "output_type": "display_data"
    }
   ],
   "source": [
    "plt.figure(figsize=(12,8))\n",
    "sns.countplot(x=df8['ratings_given'])\n",
    "plt.show()"
   ]
  },
  {
   "cell_type": "markdown",
   "id": "136c2d9a",
   "metadata": {},
   "source": [
    "sns.pairplot(df8, size=6, height=3.0, palette='viridis')"
   ]
  },
  {
   "cell_type": "code",
   "execution_count": null,
   "id": "fa5d22ac",
   "metadata": {},
   "outputs": [],
   "source": []
  },
  {
   "cell_type": "code",
   "execution_count": null,
   "id": "e8e7b4dc",
   "metadata": {},
   "outputs": [],
   "source": []
  },
  {
   "cell_type": "code",
   "execution_count": null,
   "id": "793ccbe8",
   "metadata": {},
   "outputs": [],
   "source": []
  }
 ],
 "metadata": {
  "kernelspec": {
   "display_name": "Python 3",
   "language": "python",
   "name": "python3"
  },
  "language_info": {
   "codemirror_mode": {
    "name": "ipython",
    "version": 3
   },
   "file_extension": ".py",
   "mimetype": "text/x-python",
   "name": "python",
   "nbconvert_exporter": "python",
   "pygments_lexer": "ipython3",
   "version": "3.8.8"
  }
 },
 "nbformat": 4,
 "nbformat_minor": 5
}
